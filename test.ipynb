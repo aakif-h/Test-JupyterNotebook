{
 "cells": [
  {
   "cell_type": "code",
   "execution_count": null,
   "metadata": {},
   "outputs": [],
   "source": [
    "import random\n",
    "\n",
    "# returns an integer List after reading line by line through the given\n",
    "# file path\n",
    "def read_array(filepath):\n",
    "    input_array = []\n",
    "    \n",
    "    try:\n",
    "        f = open(filepath, \"r\")\n",
    "        for line in f:\n",
    "            try:\n",
    "                input_array.append(int(line))\n",
    "            except ValueError:\n",
    "                print(\"[READING ERROR] Not an int. Skipping this line.\")\n",
    "                \n",
    "    except FileNotFoundError:\n",
    "        print(\"[READING ERROR] The file path given does not exist!\")\n",
    "        print(\"Check the following path:\", filepath)\n",
    "    \n",
    "    return input_array\n",
    "\n",
    "# returns a random integer List of size n\n",
    "def generate_random_array(n):\n",
    "    array_range = range(-10**10, 10**10)\n",
    "    return random.sample(array_range, n) \n",
    "\n",
    "if __name__ == \"__main__\":\n",
    "    # first generate the array to be sorted or read from a file\n",
    "    # file format: each line represents 1 entry\n",
    "    determine_input = input(\"Type in the number of elements or file name to sort: \")\n",
    "    arr = []\n",
    "    if determine_input.isnumeric():\n",
    "        print(\"You have entered in a number. An array will be generated.\")\n",
    "        arr = generate_random_array(determine_input)\n",
    "    else:\n",
    "        print(\"You have entered in a string. An array will be read from the file name provided.\")\n",
    "        arr = read_array(determine_input)\n",
    "    \n",
    "    # just in case the user entered in something unreadable, use presets instead\n",
    "    if not arr:\n",
    "        print(\"Something went wrong. Forcing array generation.\")\n",
    "        arr = generate_random_array(random.randint(2, 10**5))\n",
    "    \n",
    "    # do the multithreading here"
   ]
  }
 ],
 "metadata": {
  "kernelspec": {
   "display_name": "Python 3",
   "language": "python",
   "name": "python3"
  },
  "language_info": {
   "codemirror_mode": {
    "name": "ipython",
    "version": 3
   },
   "file_extension": ".py",
   "mimetype": "text/x-python",
   "name": "python",
   "nbconvert_exporter": "python",
   "pygments_lexer": "ipython3",
   "version": "3.6.8"
  }
 },
 "nbformat": 4,
 "nbformat_minor": 4
}
